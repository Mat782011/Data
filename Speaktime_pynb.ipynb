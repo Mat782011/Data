{
  "nbformat": 4,
  "nbformat_minor": 0,
  "metadata": {
    "colab": {
      "name": "Speaktime.pynb",
      "provenance": [],
      "collapsed_sections": [],
      "authorship_tag": "ABX9TyPJsqUF6KI079kkoypDMJmo",
      "include_colab_link": true
    },
    "kernelspec": {
      "name": "python3",
      "display_name": "Python 3"
    }
  },
  "cells": [
    {
      "cell_type": "markdown",
      "metadata": {
        "id": "view-in-github",
        "colab_type": "text"
      },
      "source": [
        "<a href=\"https://colab.research.google.com/github/Mat782011/Data/blob/main/Speaktime_pynb.ipynb\" target=\"_parent\"><img src=\"https://colab.research.google.com/assets/colab-badge.svg\" alt=\"Open In Colab\"/></a>"
      ]
    },
    {
      "cell_type": "code",
      "metadata": {
        "id": "v7dha8NS9av8"
      },
      "source": [
        "import pandas as pd\r\n",
        "import numpy as np\r\n",
        "import matplotlib.pyplot as plt\r\n",
        "%matplotlib inline\r\n",
        "#\r\n",
        "from sklearn.model_selection import train_test_split\r\n",
        "from sklearn.linear_model import LinearRegression\r\n",
        "from sklearn.metrics import mean_squared_error"
      ],
      "execution_count": 29,
      "outputs": []
    },
    {
      "cell_type": "code",
      "metadata": {
        "colab": {
          "base_uri": "https://localhost:8080/"
        },
        "id": "cR6ypfaU9fxU",
        "outputId": "57afba01-e640-434d-aa6a-699777c2764e"
      },
      "source": [
        "! git clone --recursive https://github.com/Mat782011/Data"
      ],
      "execution_count": 30,
      "outputs": [
        {
          "output_type": "stream",
          "text": [
            "fatal: destination path 'Data' already exists and is not an empty directory.\n"
          ],
          "name": "stdout"
        }
      ]
    },
    {
      "cell_type": "markdown",
      "metadata": {
        "id": "D-7TVHhPBHDv"
      },
      "source": [
        "#Analyse des données du fichier"
      ]
    },
    {
      "cell_type": "code",
      "metadata": {
        "colab": {
          "base_uri": "https://localhost:8080/",
          "height": 379
        },
        "id": "uG-MemPj_Hch",
        "outputId": "79ec758e-561e-4edc-a55b-dcbc8c05998e"
      },
      "source": [
        "df = pd.read_csv(\"/content/Data/Speaktime.csv\")\r\n",
        "df.head(10)"
      ],
      "execution_count": 31,
      "outputs": [
        {
          "output_type": "execute_result",
          "data": {
            "text/html": [
              "<div>\n",
              "<style scoped>\n",
              "    .dataframe tbody tr th:only-of-type {\n",
              "        vertical-align: middle;\n",
              "    }\n",
              "\n",
              "    .dataframe tbody tr th {\n",
              "        vertical-align: top;\n",
              "    }\n",
              "\n",
              "    .dataframe thead th {\n",
              "        text-align: right;\n",
              "    }\n",
              "</style>\n",
              "<table border=\"1\" class=\"dataframe\">\n",
              "  <thead>\n",
              "    <tr style=\"text-align: right;\">\n",
              "      <th></th>\n",
              "      <th>media_type</th>\n",
              "      <th>channel_name</th>\n",
              "      <th>is_public_channel</th>\n",
              "      <th>year</th>\n",
              "      <th>hour</th>\n",
              "      <th>women_expression_rate</th>\n",
              "      <th>speech_rate</th>\n",
              "      <th>nb_hours_analyzed</th>\n",
              "    </tr>\n",
              "  </thead>\n",
              "  <tbody>\n",
              "    <tr>\n",
              "      <th>0</th>\n",
              "      <td>radio</td>\n",
              "      <td>Chérie FM</td>\n",
              "      <td>False</td>\n",
              "      <td>2002</td>\n",
              "      <td>5</td>\n",
              "      <td>59.743802</td>\n",
              "      <td>17.874993</td>\n",
              "      <td>28.0</td>\n",
              "    </tr>\n",
              "    <tr>\n",
              "      <th>1</th>\n",
              "      <td>radio</td>\n",
              "      <td>Chérie FM</td>\n",
              "      <td>False</td>\n",
              "      <td>2002</td>\n",
              "      <td>6</td>\n",
              "      <td>55.012948</td>\n",
              "      <td>26.427162</td>\n",
              "      <td>20.0</td>\n",
              "    </tr>\n",
              "    <tr>\n",
              "      <th>2</th>\n",
              "      <td>radio</td>\n",
              "      <td>Chérie FM</td>\n",
              "      <td>False</td>\n",
              "      <td>2002</td>\n",
              "      <td>8</td>\n",
              "      <td>53.777281</td>\n",
              "      <td>30.158546</td>\n",
              "      <td>25.0</td>\n",
              "    </tr>\n",
              "    <tr>\n",
              "      <th>3</th>\n",
              "      <td>radio</td>\n",
              "      <td>Chérie FM</td>\n",
              "      <td>False</td>\n",
              "      <td>2002</td>\n",
              "      <td>11</td>\n",
              "      <td>39.891461</td>\n",
              "      <td>12.533961</td>\n",
              "      <td>21.0</td>\n",
              "    </tr>\n",
              "    <tr>\n",
              "      <th>4</th>\n",
              "      <td>radio</td>\n",
              "      <td>Chérie FM</td>\n",
              "      <td>False</td>\n",
              "      <td>2002</td>\n",
              "      <td>13</td>\n",
              "      <td>48.868789</td>\n",
              "      <td>16.901816</td>\n",
              "      <td>23.0</td>\n",
              "    </tr>\n",
              "    <tr>\n",
              "      <th>5</th>\n",
              "      <td>radio</td>\n",
              "      <td>Chérie FM</td>\n",
              "      <td>False</td>\n",
              "      <td>2002</td>\n",
              "      <td>16</td>\n",
              "      <td>39.938988</td>\n",
              "      <td>17.721200</td>\n",
              "      <td>24.0</td>\n",
              "    </tr>\n",
              "    <tr>\n",
              "      <th>6</th>\n",
              "      <td>radio</td>\n",
              "      <td>Chérie FM</td>\n",
              "      <td>False</td>\n",
              "      <td>2002</td>\n",
              "      <td>22</td>\n",
              "      <td>50.301447</td>\n",
              "      <td>9.828919</td>\n",
              "      <td>21.0</td>\n",
              "    </tr>\n",
              "    <tr>\n",
              "      <th>7</th>\n",
              "      <td>radio</td>\n",
              "      <td>Chérie FM</td>\n",
              "      <td>False</td>\n",
              "      <td>2003</td>\n",
              "      <td>5</td>\n",
              "      <td>52.252092</td>\n",
              "      <td>17.353214</td>\n",
              "      <td>47.0</td>\n",
              "    </tr>\n",
              "    <tr>\n",
              "      <th>8</th>\n",
              "      <td>radio</td>\n",
              "      <td>Chérie FM</td>\n",
              "      <td>False</td>\n",
              "      <td>2003</td>\n",
              "      <td>6</td>\n",
              "      <td>58.033630</td>\n",
              "      <td>29.307879</td>\n",
              "      <td>31.0</td>\n",
              "    </tr>\n",
              "    <tr>\n",
              "      <th>9</th>\n",
              "      <td>radio</td>\n",
              "      <td>Chérie FM</td>\n",
              "      <td>False</td>\n",
              "      <td>2003</td>\n",
              "      <td>7</td>\n",
              "      <td>50.544557</td>\n",
              "      <td>32.417351</td>\n",
              "      <td>29.0</td>\n",
              "    </tr>\n",
              "  </tbody>\n",
              "</table>\n",
              "</div>"
            ],
            "text/plain": [
              "  media_type channel_name  ...  speech_rate  nb_hours_analyzed\n",
              "0      radio    Chérie FM  ...    17.874993               28.0\n",
              "1      radio    Chérie FM  ...    26.427162               20.0\n",
              "2      radio    Chérie FM  ...    30.158546               25.0\n",
              "3      radio    Chérie FM  ...    12.533961               21.0\n",
              "4      radio    Chérie FM  ...    16.901816               23.0\n",
              "5      radio    Chérie FM  ...    17.721200               24.0\n",
              "6      radio    Chérie FM  ...     9.828919               21.0\n",
              "7      radio    Chérie FM  ...    17.353214               47.0\n",
              "8      radio    Chérie FM  ...    29.307879               31.0\n",
              "9      radio    Chérie FM  ...    32.417351               29.0\n",
              "\n",
              "[10 rows x 8 columns]"
            ]
          },
          "metadata": {
            "tags": []
          },
          "execution_count": 31
        }
      ]
    },
    {
      "cell_type": "code",
      "metadata": {
        "colab": {
          "base_uri": "https://localhost:8080/",
          "height": 224
        },
        "id": "rS2rnjQMAdLR",
        "outputId": "81b271f0-4afb-4449-9a8c-60edd7d14077"
      },
      "source": [
        "df.tail()"
      ],
      "execution_count": 32,
      "outputs": [
        {
          "output_type": "execute_result",
          "data": {
            "text/html": [
              "<div>\n",
              "<style scoped>\n",
              "    .dataframe tbody tr th:only-of-type {\n",
              "        vertical-align: middle;\n",
              "    }\n",
              "\n",
              "    .dataframe tbody tr th {\n",
              "        vertical-align: top;\n",
              "    }\n",
              "\n",
              "    .dataframe thead th {\n",
              "        text-align: right;\n",
              "    }\n",
              "</style>\n",
              "<table border=\"1\" class=\"dataframe\">\n",
              "  <thead>\n",
              "    <tr style=\"text-align: right;\">\n",
              "      <th></th>\n",
              "      <th>media_type</th>\n",
              "      <th>channel_name</th>\n",
              "      <th>is_public_channel</th>\n",
              "      <th>year</th>\n",
              "      <th>hour</th>\n",
              "      <th>women_expression_rate</th>\n",
              "      <th>speech_rate</th>\n",
              "      <th>nb_hours_analyzed</th>\n",
              "    </tr>\n",
              "  </thead>\n",
              "  <tbody>\n",
              "    <tr>\n",
              "      <th>11502</th>\n",
              "      <td>tv</td>\n",
              "      <td>W9</td>\n",
              "      <td>False</td>\n",
              "      <td>2019</td>\n",
              "      <td>19</td>\n",
              "      <td>43.126052</td>\n",
              "      <td>69.746020</td>\n",
              "      <td>25.0</td>\n",
              "    </tr>\n",
              "    <tr>\n",
              "      <th>11503</th>\n",
              "      <td>tv</td>\n",
              "      <td>W9</td>\n",
              "      <td>False</td>\n",
              "      <td>2019</td>\n",
              "      <td>20</td>\n",
              "      <td>45.842785</td>\n",
              "      <td>70.504944</td>\n",
              "      <td>25.0</td>\n",
              "    </tr>\n",
              "    <tr>\n",
              "      <th>11504</th>\n",
              "      <td>tv</td>\n",
              "      <td>W9</td>\n",
              "      <td>False</td>\n",
              "      <td>2019</td>\n",
              "      <td>21</td>\n",
              "      <td>31.240914</td>\n",
              "      <td>74.250971</td>\n",
              "      <td>25.0</td>\n",
              "    </tr>\n",
              "    <tr>\n",
              "      <th>11505</th>\n",
              "      <td>tv</td>\n",
              "      <td>W9</td>\n",
              "      <td>False</td>\n",
              "      <td>2019</td>\n",
              "      <td>22</td>\n",
              "      <td>26.697773</td>\n",
              "      <td>77.279876</td>\n",
              "      <td>25.0</td>\n",
              "    </tr>\n",
              "    <tr>\n",
              "      <th>11506</th>\n",
              "      <td>tv</td>\n",
              "      <td>W9</td>\n",
              "      <td>False</td>\n",
              "      <td>2019</td>\n",
              "      <td>23</td>\n",
              "      <td>28.028058</td>\n",
              "      <td>77.976503</td>\n",
              "      <td>25.0</td>\n",
              "    </tr>\n",
              "  </tbody>\n",
              "</table>\n",
              "</div>"
            ],
            "text/plain": [
              "      media_type channel_name  ...  speech_rate  nb_hours_analyzed\n",
              "11502         tv           W9  ...    69.746020               25.0\n",
              "11503         tv           W9  ...    70.504944               25.0\n",
              "11504         tv           W9  ...    74.250971               25.0\n",
              "11505         tv           W9  ...    77.279876               25.0\n",
              "11506         tv           W9  ...    77.976503               25.0\n",
              "\n",
              "[5 rows x 8 columns]"
            ]
          },
          "metadata": {
            "tags": []
          },
          "execution_count": 32
        }
      ]
    },
    {
      "cell_type": "code",
      "metadata": {
        "colab": {
          "base_uri": "https://localhost:8080/"
        },
        "id": "-RbfFVrAAhEo",
        "outputId": "8cde9a9d-dff0-4a16-8eff-d0fb7c7e1a2e"
      },
      "source": [
        "df.shape"
      ],
      "execution_count": 33,
      "outputs": [
        {
          "output_type": "execute_result",
          "data": {
            "text/plain": [
              "(11507, 8)"
            ]
          },
          "metadata": {
            "tags": []
          },
          "execution_count": 33
        }
      ]
    },
    {
      "cell_type": "code",
      "metadata": {
        "colab": {
          "base_uri": "https://localhost:8080/"
        },
        "id": "TFtQlKi7AkRJ",
        "outputId": "71182662-039b-412e-a528-d9faed145abd"
      },
      "source": [
        "df.info()"
      ],
      "execution_count": 34,
      "outputs": [
        {
          "output_type": "stream",
          "text": [
            "<class 'pandas.core.frame.DataFrame'>\n",
            "RangeIndex: 11507 entries, 0 to 11506\n",
            "Data columns (total 8 columns):\n",
            " #   Column                 Non-Null Count  Dtype  \n",
            "---  ------                 --------------  -----  \n",
            " 0   media_type             11507 non-null  object \n",
            " 1   channel_name           11507 non-null  object \n",
            " 2   is_public_channel      11507 non-null  bool   \n",
            " 3   year                   11507 non-null  int64  \n",
            " 4   hour                   11507 non-null  int64  \n",
            " 5   women_expression_rate  11507 non-null  float64\n",
            " 6   speech_rate            11507 non-null  float64\n",
            " 7   nb_hours_analyzed      11507 non-null  float64\n",
            "dtypes: bool(1), float64(3), int64(2), object(2)\n",
            "memory usage: 640.7+ KB\n"
          ],
          "name": "stdout"
        }
      ]
    },
    {
      "cell_type": "code",
      "metadata": {
        "colab": {
          "base_uri": "https://localhost:8080/",
          "height": 297
        },
        "id": "1Cq3R4ixA-LJ",
        "outputId": "a768e181-9712-44db-bf38-ec506c81bc0c"
      },
      "source": [
        "df.describe()"
      ],
      "execution_count": 35,
      "outputs": [
        {
          "output_type": "execute_result",
          "data": {
            "text/html": [
              "<div>\n",
              "<style scoped>\n",
              "    .dataframe tbody tr th:only-of-type {\n",
              "        vertical-align: middle;\n",
              "    }\n",
              "\n",
              "    .dataframe tbody tr th {\n",
              "        vertical-align: top;\n",
              "    }\n",
              "\n",
              "    .dataframe thead th {\n",
              "        text-align: right;\n",
              "    }\n",
              "</style>\n",
              "<table border=\"1\" class=\"dataframe\">\n",
              "  <thead>\n",
              "    <tr style=\"text-align: right;\">\n",
              "      <th></th>\n",
              "      <th>year</th>\n",
              "      <th>hour</th>\n",
              "      <th>women_expression_rate</th>\n",
              "      <th>speech_rate</th>\n",
              "      <th>nb_hours_analyzed</th>\n",
              "    </tr>\n",
              "  </thead>\n",
              "  <tbody>\n",
              "    <tr>\n",
              "      <th>count</th>\n",
              "      <td>11507.000000</td>\n",
              "      <td>11507.000000</td>\n",
              "      <td>11507.000000</td>\n",
              "      <td>11507.000000</td>\n",
              "      <td>11507.000000</td>\n",
              "    </tr>\n",
              "    <tr>\n",
              "      <th>mean</th>\n",
              "      <td>2011.846181</td>\n",
              "      <td>14.971148</td>\n",
              "      <td>30.321277</td>\n",
              "      <td>65.050600</td>\n",
              "      <td>40.017468</td>\n",
              "    </tr>\n",
              "    <tr>\n",
              "      <th>std</th>\n",
              "      <td>5.538903</td>\n",
              "      <td>5.104713</td>\n",
              "      <td>13.746715</td>\n",
              "      <td>29.802475</td>\n",
              "      <td>11.063756</td>\n",
              "    </tr>\n",
              "    <tr>\n",
              "      <th>min</th>\n",
              "      <td>1995.000000</td>\n",
              "      <td>5.000000</td>\n",
              "      <td>0.154106</td>\n",
              "      <td>0.272575</td>\n",
              "      <td>20.000000</td>\n",
              "    </tr>\n",
              "    <tr>\n",
              "      <th>25%</th>\n",
              "      <td>2009.000000</td>\n",
              "      <td>11.000000</td>\n",
              "      <td>21.248295</td>\n",
              "      <td>39.760091</td>\n",
              "      <td>32.000000</td>\n",
              "    </tr>\n",
              "    <tr>\n",
              "      <th>50%</th>\n",
              "      <td>2013.000000</td>\n",
              "      <td>15.000000</td>\n",
              "      <td>28.961528</td>\n",
              "      <td>76.513738</td>\n",
              "      <td>39.000000</td>\n",
              "    </tr>\n",
              "    <tr>\n",
              "      <th>75%</th>\n",
              "      <td>2016.000000</td>\n",
              "      <td>19.000000</td>\n",
              "      <td>38.377328</td>\n",
              "      <td>89.136704</td>\n",
              "      <td>47.000000</td>\n",
              "    </tr>\n",
              "    <tr>\n",
              "      <th>max</th>\n",
              "      <td>2019.000000</td>\n",
              "      <td>23.000000</td>\n",
              "      <td>97.938764</td>\n",
              "      <td>99.572433</td>\n",
              "      <td>80.000000</td>\n",
              "    </tr>\n",
              "  </tbody>\n",
              "</table>\n",
              "</div>"
            ],
            "text/plain": [
              "               year          hour  ...   speech_rate  nb_hours_analyzed\n",
              "count  11507.000000  11507.000000  ...  11507.000000       11507.000000\n",
              "mean    2011.846181     14.971148  ...     65.050600          40.017468\n",
              "std        5.538903      5.104713  ...     29.802475          11.063756\n",
              "min     1995.000000      5.000000  ...      0.272575          20.000000\n",
              "25%     2009.000000     11.000000  ...     39.760091          32.000000\n",
              "50%     2013.000000     15.000000  ...     76.513738          39.000000\n",
              "75%     2016.000000     19.000000  ...     89.136704          47.000000\n",
              "max     2019.000000     23.000000  ...     99.572433          80.000000\n",
              "\n",
              "[8 rows x 5 columns]"
            ]
          },
          "metadata": {
            "tags": []
          },
          "execution_count": 35
        }
      ]
    },
    {
      "cell_type": "markdown",
      "metadata": {
        "id": "FgMDQA_jBSsB"
      },
      "source": [
        "#Séparation du df en data et target"
      ]
    },
    {
      "cell_type": "code",
      "metadata": {
        "id": "934Lpd1aCZxY"
      },
      "source": [
        "data = df.drop('women_expression_rate', axis = 1)\r\n",
        "target = df.women_expression_rate"
      ],
      "execution_count": 36,
      "outputs": []
    },
    {
      "cell_type": "markdown",
      "metadata": {
        "id": "3lH_e2d3C0Ew"
      },
      "source": [
        "#Train-Test Split"
      ]
    },
    {
      "cell_type": "code",
      "metadata": {
        "id": "vL3_O2V-C4jY"
      },
      "source": [
        "X_train, X_test, Y_train, Y_test = train_test_split(data, target, test_size = 0.2, random_state=5)"
      ],
      "execution_count": 37,
      "outputs": []
    },
    {
      "cell_type": "markdown",
      "metadata": {
        "id": "d7Le-g7TDIdI"
      },
      "source": [
        "#Création d'un modèle de régression linéaire"
      ]
    },
    {
      "cell_type": "code",
      "metadata": {
        "id": "o5YCw6kMDO_u"
      },
      "source": [
        "lm = LinearRegression()"
      ],
      "execution_count": 38,
      "outputs": []
    },
    {
      "cell_type": "markdown",
      "metadata": {
        "id": "hkFKfx89DQkD"
      },
      "source": [
        "#Entraînement du modèle à partir de X_train et Y_train"
      ]
    },
    {
      "cell_type": "code",
      "metadata": {
        "colab": {
          "base_uri": "https://localhost:8080/",
          "height": 340
        },
        "id": "xN4HCUoyDUb9",
        "outputId": "a292219a-3db2-4a52-8ea7-61aaafb86bb1"
      },
      "source": [
        "lm.fit(X_train,Y_train)"
      ],
      "execution_count": 39,
      "outputs": [
        {
          "output_type": "error",
          "ename": "ValueError",
          "evalue": "ignored",
          "traceback": [
            "\u001b[0;31m---------------------------------------------------------------------------\u001b[0m",
            "\u001b[0;31mValueError\u001b[0m                                Traceback (most recent call last)",
            "\u001b[0;32m<ipython-input-39-d94bd5761ca2>\u001b[0m in \u001b[0;36m<module>\u001b[0;34m()\u001b[0m\n\u001b[0;32m----> 1\u001b[0;31m \u001b[0mlm\u001b[0m\u001b[0;34m.\u001b[0m\u001b[0mfit\u001b[0m\u001b[0;34m(\u001b[0m\u001b[0mX_train\u001b[0m\u001b[0;34m,\u001b[0m\u001b[0mY_train\u001b[0m\u001b[0;34m)\u001b[0m\u001b[0;34m\u001b[0m\u001b[0;34m\u001b[0m\u001b[0m\n\u001b[0m",
            "\u001b[0;32m/usr/local/lib/python3.7/dist-packages/sklearn/linear_model/_base.py\u001b[0m in \u001b[0;36mfit\u001b[0;34m(self, X, y, sample_weight)\u001b[0m\n\u001b[1;32m    490\u001b[0m         \u001b[0mn_jobs_\u001b[0m \u001b[0;34m=\u001b[0m \u001b[0mself\u001b[0m\u001b[0;34m.\u001b[0m\u001b[0mn_jobs\u001b[0m\u001b[0;34m\u001b[0m\u001b[0;34m\u001b[0m\u001b[0m\n\u001b[1;32m    491\u001b[0m         X, y = check_X_y(X, y, accept_sparse=['csr', 'csc', 'coo'],\n\u001b[0;32m--> 492\u001b[0;31m                          y_numeric=True, multi_output=True)\n\u001b[0m\u001b[1;32m    493\u001b[0m \u001b[0;34m\u001b[0m\u001b[0m\n\u001b[1;32m    494\u001b[0m         \u001b[0;32mif\u001b[0m \u001b[0msample_weight\u001b[0m \u001b[0;32mis\u001b[0m \u001b[0;32mnot\u001b[0m \u001b[0;32mNone\u001b[0m\u001b[0;34m:\u001b[0m\u001b[0;34m\u001b[0m\u001b[0;34m\u001b[0m\u001b[0m\n",
            "\u001b[0;32m/usr/local/lib/python3.7/dist-packages/sklearn/utils/validation.py\u001b[0m in \u001b[0;36mcheck_X_y\u001b[0;34m(X, y, accept_sparse, accept_large_sparse, dtype, order, copy, force_all_finite, ensure_2d, allow_nd, multi_output, ensure_min_samples, ensure_min_features, y_numeric, warn_on_dtype, estimator)\u001b[0m\n\u001b[1;32m    753\u001b[0m                     \u001b[0mensure_min_features\u001b[0m\u001b[0;34m=\u001b[0m\u001b[0mensure_min_features\u001b[0m\u001b[0;34m,\u001b[0m\u001b[0;34m\u001b[0m\u001b[0;34m\u001b[0m\u001b[0m\n\u001b[1;32m    754\u001b[0m                     \u001b[0mwarn_on_dtype\u001b[0m\u001b[0;34m=\u001b[0m\u001b[0mwarn_on_dtype\u001b[0m\u001b[0;34m,\u001b[0m\u001b[0;34m\u001b[0m\u001b[0;34m\u001b[0m\u001b[0m\n\u001b[0;32m--> 755\u001b[0;31m                     estimator=estimator)\n\u001b[0m\u001b[1;32m    756\u001b[0m     \u001b[0;32mif\u001b[0m \u001b[0mmulti_output\u001b[0m\u001b[0;34m:\u001b[0m\u001b[0;34m\u001b[0m\u001b[0;34m\u001b[0m\u001b[0m\n\u001b[1;32m    757\u001b[0m         y = check_array(y, 'csr', force_all_finite=True, ensure_2d=False,\n",
            "\u001b[0;32m/usr/local/lib/python3.7/dist-packages/sklearn/utils/validation.py\u001b[0m in \u001b[0;36mcheck_array\u001b[0;34m(array, accept_sparse, accept_large_sparse, dtype, order, copy, force_all_finite, ensure_2d, allow_nd, ensure_min_samples, ensure_min_features, warn_on_dtype, estimator)\u001b[0m\n\u001b[1;32m    569\u001b[0m         \u001b[0;31m# make sure we actually converted to numeric:\u001b[0m\u001b[0;34m\u001b[0m\u001b[0;34m\u001b[0m\u001b[0;34m\u001b[0m\u001b[0m\n\u001b[1;32m    570\u001b[0m         \u001b[0;32mif\u001b[0m \u001b[0mdtype_numeric\u001b[0m \u001b[0;32mand\u001b[0m \u001b[0marray\u001b[0m\u001b[0;34m.\u001b[0m\u001b[0mdtype\u001b[0m\u001b[0;34m.\u001b[0m\u001b[0mkind\u001b[0m \u001b[0;34m==\u001b[0m \u001b[0;34m\"O\"\u001b[0m\u001b[0;34m:\u001b[0m\u001b[0;34m\u001b[0m\u001b[0;34m\u001b[0m\u001b[0m\n\u001b[0;32m--> 571\u001b[0;31m             \u001b[0marray\u001b[0m \u001b[0;34m=\u001b[0m \u001b[0marray\u001b[0m\u001b[0;34m.\u001b[0m\u001b[0mastype\u001b[0m\u001b[0;34m(\u001b[0m\u001b[0mnp\u001b[0m\u001b[0;34m.\u001b[0m\u001b[0mfloat64\u001b[0m\u001b[0;34m)\u001b[0m\u001b[0;34m\u001b[0m\u001b[0;34m\u001b[0m\u001b[0m\n\u001b[0m\u001b[1;32m    572\u001b[0m         \u001b[0;32mif\u001b[0m \u001b[0;32mnot\u001b[0m \u001b[0mallow_nd\u001b[0m \u001b[0;32mand\u001b[0m \u001b[0marray\u001b[0m\u001b[0;34m.\u001b[0m\u001b[0mndim\u001b[0m \u001b[0;34m>=\u001b[0m \u001b[0;36m3\u001b[0m\u001b[0;34m:\u001b[0m\u001b[0;34m\u001b[0m\u001b[0;34m\u001b[0m\u001b[0m\n\u001b[1;32m    573\u001b[0m             raise ValueError(\"Found array with dim %d. %s expected <= 2.\"\n",
            "\u001b[0;31mValueError\u001b[0m: could not convert string to float: 'tv'"
          ]
        }
      ]
    },
    {
      "cell_type": "markdown",
      "metadata": {
        "id": "DtXcWtPsEA37"
      },
      "source": [
        "#Affichage des estimateurs"
      ]
    },
    {
      "cell_type": "code",
      "metadata": {
        "id": "aQMDM0LfEJP5"
      },
      "source": [
        "print(\"Intercepte estimé : \", lm.intercept_)"
      ],
      "execution_count": null,
      "outputs": []
    },
    {
      "cell_type": "code",
      "metadata": {
        "id": "2ZXi1mDXEK6R"
      },
      "source": [
        "lm.coef_"
      ],
      "execution_count": null,
      "outputs": []
    },
    {
      "cell_type": "code",
      "metadata": {
        "id": "gueWhizOEMmz"
      },
      "source": [
        "pd.DataFrame({'coeffcients estimés': lm.coef_}, index = X_train.columns)"
      ],
      "execution_count": null,
      "outputs": []
    },
    {
      "cell_type": "code",
      "metadata": {
        "id": "4hTs-azeEMfp"
      },
      "source": [
        "plt.scatter(df.channel_name  , df.women_expression_rate)"
      ],
      "execution_count": null,
      "outputs": []
    },
    {
      "cell_type": "markdown",
      "metadata": {
        "id": "1n68C2FwGztl"
      },
      "source": [
        "#Evaluation du modèle"
      ]
    },
    {
      "cell_type": "code",
      "metadata": {
        "id": "dt142z6kGzRY"
      },
      "source": [
        "Y_pred = lm.predict(X_test)\r\n",
        "\r\n",
        "print(\"Prédictions :\", Y_pred[0:5])\r\n",
        "print(\"Valeurs réelles :\", list(Y_test[0:5]))"
      ],
      "execution_count": null,
      "outputs": []
    },
    {
      "cell_type": "code",
      "metadata": {
        "id": "FOygTSc_G43x"
      },
      "source": [
        "Y_pred[0:5] - list(Y_test[0:1])"
      ],
      "execution_count": null,
      "outputs": []
    },
    {
      "cell_type": "code",
      "metadata": {
        "id": "aTlo39cHG6EV"
      },
      "source": [
        "plt.scatter(Y_test , Y_pred)\r\n",
        "x = np.linspace(0,50)\r\n",
        "plt.plot(x, x, 'g');"
      ],
      "execution_count": null,
      "outputs": []
    },
    {
      "cell_type": "code",
      "metadata": {
        "id": "UKEl55UgG8T-"
      },
      "source": [
        "Y_pred_train = lm.predict(X_train)\r\n",
        "residus = Y_pred_train - Y_train\r\n",
        "plt.scatter(Y_train , residus)\r\n",
        "plt.plot((Y_train.min(), Y_train.max()), (0,0),color = 'r')"
      ],
      "execution_count": null,
      "outputs": []
    },
    {
      "cell_type": "code",
      "metadata": {
        "id": "QVMXXKKrG-LB"
      },
      "source": [
        "plt.figure(figsize=13,13)"
      ],
      "execution_count": null,
      "outputs": []
    },
    {
      "cell_type": "code",
      "metadata": {
        "id": "0Nv_5Xo9G_S0"
      },
      "source": [
        "sns.pairplot(df)\r\n",
        "plt.show"
      ],
      "execution_count": null,
      "outputs": []
    }
  ]
}